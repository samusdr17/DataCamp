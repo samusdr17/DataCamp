{
 "cells": [
  {
   "cell_type": "code",
   "execution_count": null,
   "metadata": {},
   "outputs": [],
   "source": [
    "# Import numpy as np\n",
    "import numpy as np\n",
    "\n",
    "\n",
    "# For loop over np_height\n",
    "for item in np_height:\n",
    "  print(str(item) + \" inches\")\n",
    "\n",
    "\n",
    "# For loop over np_baseball\n",
    "for item in np.nditer(np_baseball):\n",
    "  print(str(item))"
   ]
  }
 ],
 "metadata": {
  "language_info": {
   "name": "python"
  }
 },
 "nbformat": 4,
 "nbformat_minor": 2
}
