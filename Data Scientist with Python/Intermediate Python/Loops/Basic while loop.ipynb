{
 "cells": [
  {
   "cell_type": "code",
   "execution_count": null,
   "metadata": {},
   "outputs": [],
   "source": [
    "# Initialize offset\n",
    "offset=8\n",
    "\n",
    "# Code the while loop\n",
    "while offset != 0:\n",
    "  print(\"correcting...\")\n",
    "  offset=offset-1\n",
    "  print(offset)"
   ]
  }
 ],
 "metadata": {
  "language_info": {
   "name": "python"
  }
 },
 "nbformat": 4,
 "nbformat_minor": 2
}
