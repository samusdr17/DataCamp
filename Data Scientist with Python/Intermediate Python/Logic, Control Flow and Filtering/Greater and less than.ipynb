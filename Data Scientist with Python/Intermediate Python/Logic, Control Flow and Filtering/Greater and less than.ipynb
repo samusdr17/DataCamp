{
 "cells": [
  {
   "cell_type": "code",
   "execution_count": null,
   "metadata": {},
   "outputs": [],
   "source": [
    "# Comparison of integers\n",
    "x = -3 * 6\n",
    "print(x>=-10)\n",
    "\n",
    "# Comparison of strings\n",
    "y = \"test\"\n",
    "print(\"test\"<=y)\n",
    "\n",
    "# Comparison of booleans\n",
    "print(True>False)"
   ]
  }
 ],
 "metadata": {
  "language_info": {
   "name": "python"
  }
 },
 "nbformat": 4,
 "nbformat_minor": 2
}
