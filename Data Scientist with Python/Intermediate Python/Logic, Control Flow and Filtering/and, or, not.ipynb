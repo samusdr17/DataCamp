{
 "cells": [
  {
   "cell_type": "code",
   "execution_count": null,
   "metadata": {},
   "outputs": [],
   "source": [
    "# Define variables\n",
    "my_kitchen = 18.0\n",
    "your_kitchen = 14.0\n",
    "\n",
    "# my_kitchen bigger than 10 and smaller than 18?\n",
    "print(my_kitchen > 10 and my_kitchen < 18)\n",
    "\n",
    "# my_kitchen smaller than 14 or bigger than 17?\n",
    "print(my_kitchen < 14 or my_kitchen > 17)\n",
    "\n",
    "# Double my_kitchen smaller than triple your_kitchen?\n",
    "print(my_kitchen*2 < your_kitchen*3)"
   ]
  }
 ],
 "metadata": {
  "language_info": {
   "name": "python"
  }
 },
 "nbformat": 4,
 "nbformat_minor": 2
}
