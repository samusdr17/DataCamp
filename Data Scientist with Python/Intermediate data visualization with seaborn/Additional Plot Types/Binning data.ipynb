{
 "cells": [
  {
   "cell_type": "code",
   "execution_count": null,
   "metadata": {
    "vscode": {
     "languageId": "plaintext"
    }
   },
   "outputs": [],
   "source": [
    "# Create a scatter plot by disabling the regression line\n",
    "sns.regplot(data=df,\n",
    "            y='Tuition',\n",
    "            x=\"UG\",\n",
    "            fit_reg=False)\n",
    "\n",
    "plt.show()\n",
    "plt.clf()"
   ]
  }
 ],
 "metadata": {
  "language_info": {
   "name": "python"
  }
 },
 "nbformat": 4,
 "nbformat_minor": 2
}
