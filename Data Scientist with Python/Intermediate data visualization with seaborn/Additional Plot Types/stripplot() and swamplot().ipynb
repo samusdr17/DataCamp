{
 "cells": [
  {
   "cell_type": "code",
   "execution_count": null,
   "metadata": {
    "vscode": {
     "languageId": "plaintext"
    }
   },
   "outputs": [],
   "source": [
    "# Create the stripplot\n",
    "sns.stripplot(data=df,\n",
    "         x='Award_Amount',\n",
    "         y='Model Selected',\n",
    "         jitter=True)\n",
    "\n",
    "plt.show() \n"
   ]
  }
 ],
 "metadata": {
  "language_info": {
   "name": "python"
  }
 },
 "nbformat": 4,
 "nbformat_minor": 2
}
