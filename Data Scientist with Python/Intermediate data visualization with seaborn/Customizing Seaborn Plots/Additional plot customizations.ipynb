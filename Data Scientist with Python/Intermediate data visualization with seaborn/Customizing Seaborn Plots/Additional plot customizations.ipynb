{
 "cells": [
  {
   "cell_type": "code",
   "execution_count": null,
   "metadata": {
    "vscode": {
     "languageId": "plaintext"
    }
   },
   "outputs": [],
   "source": [
    "# Create a figure and axes\n",
    "fig, ax = plt.subplots()\n",
    "\n",
    "# Plot the distribution of 1 bedroom rents\n",
    "sns.distplot(df['fmr_1'], ax=ax)\n",
    "\n",
    "# Modify the properties of the plot\n",
    "ax.set(xlabel=\"1 Bedroom Fair Market Rent\",\n",
    "       xlim=(100,1500),\n",
    "       title=\"US Rent\")\n",
    "\n",
    "# Display the plot\n",
    "plt.show()"
   ]
  }
 ],
 "metadata": {
  "language_info": {
   "name": "python"
  }
 },
 "nbformat": 4,
 "nbformat_minor": 2
}
