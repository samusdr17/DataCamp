{
 "cells": [
  {
   "cell_type": "code",
   "execution_count": null,
   "metadata": {
    "vscode": {
     "languageId": "plaintext"
    }
   },
   "outputs": [],
   "source": [
    "# Set the style to white\n",
    "sns.set_style('white')\n",
    "\n",
    "# Create a regression plot\n",
    "sns.lmplot(data=df,\n",
    "           x='pop2010',\n",
    "           y='fmr_2')\n",
    "\n",
    "# Remove the spines\n",
    "sns.despine()\n",
    "\n",
    "# Show the plot and clear the figure\n",
    "plt.show()\n",
    "plt.clf()"
   ]
  }
 ],
 "metadata": {
  "language_info": {
   "name": "python"
  }
 },
 "nbformat": 4,
 "nbformat_minor": 2
}
