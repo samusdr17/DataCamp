{
 "cells": [
  {
   "cell_type": "code",
   "execution_count": null,
   "metadata": {
    "vscode": {
     "languageId": "plaintext"
    }
   },
   "outputs": [],
   "source": [
    "# Loop through differences between bright and colorblind palettes\n",
    "for p in ['bright', 'colorblind']:\n",
    "    sns.set_palette(p)\n",
    "    sns.distplot(df['fmr_3'])\n",
    "    plt.show()\n",
    "    \n",
    "    # Clear the plots    \n",
    "    plt.clf()"
   ]
  }
 ],
 "metadata": {
  "language_info": {
   "name": "python"
  }
 },
 "nbformat": 4,
 "nbformat_minor": 2
}
