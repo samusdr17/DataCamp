{
 "cells": [
  {
   "cell_type": "code",
   "execution_count": null,
   "metadata": {
    "vscode": {
     "languageId": "plaintext"
    }
   },
   "outputs": [],
   "source": [
    "# Create a regression plot with multiple rows\n",
    "sns.lmplot(data=df,\n",
    "           x=\"insurance_losses\",\n",
    "           y=\"premiums\",\n",
    "           row=\"Region\")\n",
    "\n",
    "# Show the plot\n",
    "plt.show()"
   ]
  }
 ],
 "metadata": {
  "language_info": {
   "name": "python"
  }
 },
 "nbformat": 4,
 "nbformat_minor": 2
}
