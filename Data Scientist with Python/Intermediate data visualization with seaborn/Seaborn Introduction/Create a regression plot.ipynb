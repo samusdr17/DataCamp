{
 "cells": [
  {
   "cell_type": "code",
   "execution_count": null,
   "metadata": {
    "vscode": {
     "languageId": "plaintext"
    }
   },
   "outputs": [],
   "source": [
    "# Create a regression plot of premiums vs. insurance_losses\n",
    "sns.regplot(x='insurance_losses',y='premiums',data=df)\n",
    "\n",
    "\n",
    "\n",
    "# Display the plot\n",
    "plt.show()\n",
    "\n",
    "# Create an lmplot of premiums vs. insurance_losses\n",
    "sns.lmplot(y='premiums',x='insurance_losses',data=df)\n",
    "\n",
    "\n",
    "\n",
    "# Display the second plot\n",
    "plt.show()"
   ]
  }
 ],
 "metadata": {
  "language_info": {
   "name": "python"
  }
 },
 "nbformat": 4,
 "nbformat_minor": 2
}
