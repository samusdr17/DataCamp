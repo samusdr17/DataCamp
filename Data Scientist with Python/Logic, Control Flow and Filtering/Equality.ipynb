{
 "cells": [
  {
   "cell_type": "code",
   "execution_count": null,
   "metadata": {},
   "outputs": [],
   "source": [
    "# Comparison of booleans\n",
    "True==False\n",
    "\n",
    "# Comparison of integers\n",
    "-5*15!=75\n",
    "\n",
    "# Comparison of strings\n",
    "\"pyscript\"==\"PyScript\"\n",
    "\n",
    "# Compare a boolean with an integer\n",
    "True==1"
   ]
  }
 ],
 "metadata": {
  "language_info": {
   "name": "python"
  }
 },
 "nbformat": 4,
 "nbformat_minor": 2
}
