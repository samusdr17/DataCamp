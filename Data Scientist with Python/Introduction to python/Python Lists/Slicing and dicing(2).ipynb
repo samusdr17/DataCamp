{
 "cells": [
  {
   "cell_type": "code",
   "execution_count": null,
   "metadata": {},
   "outputs": [],
   "source": [
    "# Create the areas list\n",
    "areas = [\"hallway\", 11.25, \"kitchen\", 18.0, \"living room\", 20.0, \"bedroom\", 10.75, \"bathroom\", 9.50]\n",
    "\n",
    "# Alternative slicing to create downstairs\n",
    "downstairs=areas[:6]\n",
    "\n",
    "# Alternative slicing to create upstairs\n",
    "upstairs=areas[-4:]"
   ]
  }
 ],
 "metadata": {
  "language_info": {
   "name": "python"
  }
 },
 "nbformat": 4,
 "nbformat_minor": 2
}
